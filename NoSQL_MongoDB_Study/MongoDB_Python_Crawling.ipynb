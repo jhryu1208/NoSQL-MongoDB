{
 "cells": [
  {
   "cell_type": "markdown",
   "metadata": {},
   "source": [
    "## [ MongoDB) 씨네 21 크롤링 데이터 분석 ]"
   ]
  },
  {
   "cell_type": "markdown",
   "metadata": {},
   "source": [
    "### (1) 씨네21 크롤링 사전 준비\n",
    "---\n",
    "- 씨네 21 배우 랭킹\n",
    "    - 사이트 주소 : http://www.cine21.com/rank/person\n",
    "    - 페이지 소스를 확인하기 위해 크롬 개발자 모드 사용\n",
    "\n",
    "\n",
    "- 크롤링하기 위해 필요한 데이터\n",
    "    \n",
    "    > Request URL: http://www.cine21.com/rank/person/content\n",
    "    > \n",
    "    > Request Method : POST\n",
    "    >  - POST 형식이기 때문에, 상단 URL에서 주소의 변화가 없다. (따라서, 페이지소스 하단의 Form Data를 참고해야한다.)\n",
    "    >\n",
    "    > Form Data\n",
    "    >  - section: actor\n",
    "    >  - period_start: 2019-08\n",
    "    >  - gender: all\n",
    "    >  - page: 1\n",
    "      \n",
    "![26](https://user-images.githubusercontent.com/53929665/91011288-fdd19680-e61e-11ea-9e90-de7f87df4380.JPG )"
   ]
  },
  {
   "cell_type": "markdown",
   "metadata": {},
   "source": [
    "#### 1. 라이브러리 import"
   ]
  },
  {
   "cell_type": "code",
   "execution_count": 2,
   "metadata": {},
   "outputs": [],
   "source": [
    "from bs4 import BeautifulSoup\n",
    "import requests\n",
    "import pymongo"
   ]
  },
  {
   "cell_type": "markdown",
   "metadata": {},
   "source": [
    "#### 2. Database & Collection 생성"
   ]
  },
  {
   "cell_type": "code",
   "execution_count": 3,
   "metadata": {},
   "outputs": [],
   "source": [
    "conn = pymongo.MongoClient()\n",
    "actor_db = conn.cine21_actor\n",
    "actor_collection = actor_db.actor_collection"
   ]
  },
  {
   "cell_type": "markdown",
   "metadata": {},
   "source": [
    "#### 3. 크롤링 주소 requests"
   ]
  },
  {
   "cell_type": "code",
   "execution_count": 4,
   "metadata": {},
   "outputs": [],
   "source": [
    "cine21_act_url = 'http://www.cine21.com/rank/person'\n",
    "post_data = dict()\n",
    "post_data['section'] = 'actor'\n",
    "post_data['period_start'] = '2019-08'\n",
    "post_data['gender'] = 'all'\n",
    "post_data['page'] = 1\n",
    "\n",
    "res = requests.post(cine21_act_url, data = post_data)"
   ]
  },
  {
   "cell_type": "markdown",
   "metadata": {},
   "source": [
    "#### 4. parsing과 데이터 추출"
   ]
  },
  {
   "cell_type": "code",
   "execution_count": null,
   "metadata": {},
   "outputs": [],
   "source": []
  }
 ],
 "metadata": {
  "kernelspec": {
   "display_name": "Python 3",
   "language": "python",
   "name": "python3"
  },
  "language_info": {
   "codemirror_mode": {
    "name": "ipython",
    "version": 3
   },
   "file_extension": ".py",
   "mimetype": "text/x-python",
   "name": "python",
   "nbconvert_exporter": "python",
   "pygments_lexer": "ipython3",
   "version": "3.7.7"
  }
 },
 "nbformat": 4,
 "nbformat_minor": 4
}
