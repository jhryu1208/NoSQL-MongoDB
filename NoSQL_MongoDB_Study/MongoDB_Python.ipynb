{
 "cells": [
  {
   "cell_type": "markdown",
   "metadata": {},
   "source": [
    "## [ 1. Python으로 MongoDB 제어하기 ]\n",
    "\n",
    "### (1) pymongo 라이브러리 설치\n",
    "> pip install pymongo\n",
    "\n",
    "<br>\n",
    "<br>\n",
    "\n",
    "### (2) Mongodb 접속\n",
    "-----\n",
    ">import pymongo\n",
    ">객체변수 = pymongo.MongoClient(mongo_server. 27017)\n",
    "\n",
    "- 따로, 서버 ip를 지정하지 않을 경우 사용하는 컴퓨터의 로컬ip가 들어간다.\n",
    "    - ex) connection = pymongo.MongoClient()\n",
    "\n",
    "\n",
    "\n",
    "- AWS EC2 서버에서 접속을 원할 경우, 'mongodb://AWS_EC2_IP' 를 ()에 넣으면된다.\n",
    "    - ex) connection = pymongo.MongoClient('mongodb://15.164.160.186')"
   ]
  },
  {
   "cell_type": "code",
   "execution_count": 1,
   "metadata": {},
   "outputs": [],
   "source": [
    "import pymongo\n",
    "connection = pymongo.MongoClient()"
   ]
  },
  {
   "cell_type": "markdown",
   "metadata": {},
   "source": [
    "<br>\n",
    "<br>\n",
    "\n",
    "### (3) Database 생성/연결\n",
    "-----\n",
    "- conn_db 변수에 test 데이터베이스의 객체가 들어간다.\n",
    "- test라는 데이터베이스가 해당 ip에 없을경우 생성된다."
   ]
  },
  {
   "cell_type": "code",
   "execution_count": 2,
   "metadata": {},
   "outputs": [],
   "source": [
    "conn_db = connection.test"
   ]
  },
  {
   "cell_type": "code",
   "execution_count": null,
   "metadata": {},
   "outputs": [],
   "source": [
    "conn_db = connection['test'] # 이렇게도 선언 가능하다."
   ]
  },
  {
   "cell_type": "markdown",
   "metadata": {},
   "source": [
    "-----\n",
    "- print를 사용하여 database가 저장된 객체를 출력하면, 출력된 MongoClient함수를 통해서 해당 database가 저장된 host가 어딘지 확인 할 수 있다."
   ]
  },
  {
   "cell_type": "code",
   "execution_count": 3,
   "metadata": {},
   "outputs": [
    {
     "name": "stdout",
     "output_type": "stream",
     "text": [
      "Database(MongoClient(host=['localhost:27017'], document_class=dict, tz_aware=False, connect=True), 'test')\n"
     ]
    }
   ],
   "source": [
    "print(conn_db)"
   ]
  },
  {
   "cell_type": "code",
   "execution_count": 8,
   "metadata": {},
   "outputs": [
    {
     "name": "stdout",
     "output_type": "stream",
     "text": [
      "['_BaseObject__codec_options', '_BaseObject__read_concern', '_BaseObject__read_preference', '_BaseObject__write_concern', '_Database__client', '_Database__incoming_copying_manipulators', '_Database__incoming_manipulators', '_Database__name', '_Database__outgoing_copying_manipulators', '_Database__outgoing_manipulators', '__call__', '__class__', '__delattr__', '__dict__', '__dir__', '__doc__', '__eq__', '__format__', '__ge__', '__getattr__', '__getattribute__', '__getitem__', '__gt__', '__hash__', '__init__', '__init_subclass__', '__iter__', '__le__', '__lt__', '__module__', '__ne__', '__new__', '__next__', '__reduce__', '__reduce_ex__', '__repr__', '__setattr__', '__sizeof__', '__str__', '__subclasshook__', '__weakref__', '_apply_incoming_copying_manipulators', '_apply_incoming_manipulators', '_command', '_create_or_update_user', '_current_op', '_default_role', '_fix_incoming', '_fix_outgoing', '_list_collections', '_read_preference_for', '_retryable_read_command', '_write_concern_for', 'add_son_manipulator', 'add_user', 'aggregate', 'authenticate', 'client', 'codec_options', 'collection_names', 'command', 'create_collection', 'current_op', 'dereference', 'drop_collection', 'error', 'eval', 'get_collection', 'incoming_copying_manipulators', 'incoming_manipulators', 'last_status', 'list_collection_names', 'list_collections', 'logout', 'name', 'next', 'outgoing_copying_manipulators', 'outgoing_manipulators', 'previous_error', 'profiling_info', 'profiling_level', 'read_concern', 'read_preference', 'remove_user', 'reset_error_history', 'set_profiling_level', 'system_js', 'validate_collection', 'watch', 'with_options', 'write_concern']\n"
     ]
    }
   ],
   "source": [
    "print(dir(conn_db)) "
   ]
  },
  {
   "cell_type": "markdown",
   "metadata": {},
   "source": [
    "----\n",
    "- name을 사용하여 해당 데이터베이스의 이름이 확인 가능하다."
   ]
  },
  {
   "cell_type": "code",
   "execution_count": 9,
   "metadata": {},
   "outputs": [
    {
     "name": "stdout",
     "output_type": "stream",
     "text": [
      "test\n"
     ]
    }
   ],
   "source": [
    "print(conn_db.name)"
   ]
  },
  {
   "cell_type": "markdown",
   "metadata": {},
   "source": [
    "<br>\n",
    "<br>\n",
    "\n",
    "### (4) Database의 Collection 사용하기"
   ]
  },
  {
   "cell_type": "markdown",
   "metadata": {},
   "source": [
    "----\n",
    "- test 데이터베이스 안에 있는 test_collection의 객체가 conn_db_collection 변수에 저장된다."
   ]
  },
  {
   "cell_type": "code",
   "execution_count": 4,
   "metadata": {},
   "outputs": [],
   "source": [
    "conn_db_collection = conn_db.test_collection"
   ]
  },
  {
   "cell_type": "code",
   "execution_count": null,
   "metadata": {},
   "outputs": [],
   "source": [
    "conn_db_collection = conn_db['test_collection'] # 이렇게도 쓸 수 있다."
   ]
  },
  {
   "cell_type": "markdown",
   "metadata": {},
   "source": [
    "----\n",
    "- 출력된 MongoClient함수를 통해서 해당 collection이 저장된 host, 소속 Database, 그리고 collection name을 확인 할 수 있다."
   ]
  },
  {
   "cell_type": "code",
   "execution_count": 13,
   "metadata": {},
   "outputs": [
    {
     "data": {
      "text/plain": [
       "Collection(Database(MongoClient(host=['localhost:27017'], document_class=dict, tz_aware=False, connect=True), 'test'), 'test_collection')"
      ]
     },
     "execution_count": 13,
     "metadata": {},
     "output_type": "execute_result"
    }
   ],
   "source": [
    "conn_db_collection"
   ]
  },
  {
   "cell_type": "markdown",
   "metadata": {},
   "source": [
    "#### 주의) database에 데이터를 저장하기 전까지는 robo3T에서 직접적으로 생성된 database나 collection을 확인 할 수 없다."
   ]
  },
  {
   "cell_type": "markdown",
   "metadata": {},
   "source": [
    "## [ 2. Python으로 MongoDB CRUD 제어하기 ]\n",
    "\n",
    "### (1) Document Insert(삽입) ( insert_one() 과 insert_many() )\n",
    "----\n",
    "- `insert_one()`\n",
    "    - mongodb shell 명령어 : `insertOne()`"
   ]
  },
  {
   "cell_type": "code",
   "execution_count": 15,
   "metadata": {},
   "outputs": [],
   "source": [
    "insert_data = {\n",
    "        'Name' : 'JihyunRyu',\n",
    "        'Age' : 23,\n",
    "        'School' : 'SeoulTech.Univ',\n",
    "        'Major' : 'MSDE'\n",
    "}"
   ]
  },
  {
   "cell_type": "code",
   "execution_count": 16,
   "metadata": {},
   "outputs": [
    {
     "data": {
      "text/plain": [
       "<pymongo.results.InsertOneResult at 0x1ad76da7cc8>"
      ]
     },
     "execution_count": 16,
     "metadata": {},
     "output_type": "execute_result"
    }
   ],
   "source": [
    "conn_db_collection.insert_one(insert_data) # 아래 출력 내용은 데이터가 잘 저장되었다는 이야기"
   ]
  },
  {
   "cell_type": "markdown",
   "metadata": {},
   "source": [
    "----\n",
    "- refresh 후 정상적으로 생성 및 저장되어 있음을 확인 할 수 있다.\n",
    "\n",
    "\n",
    "![20](https://user-images.githubusercontent.com/53929665/90895814-a7394200-e3fd-11ea-9f89-61406e010aeb.JPG)"
   ]
  },
  {
   "cell_type": "markdown",
   "metadata": {},
   "source": [
    "----\n",
    "- `insert_many` 를 사용하여 (여러개) list of Document 생성할 수 있다. \n",
    "- `[ ]`를 사용하는 것을 항상 염두!"
   ]
  },
  {
   "cell_type": "code",
   "execution_count": 17,
   "metadata": {},
   "outputs": [
    {
     "data": {
      "text/plain": [
       "<pymongo.results.InsertManyResult at 0x1ad79d91508>"
      ]
     },
     "execution_count": 17,
     "metadata": {},
     "output_type": "execute_result"
    }
   ],
   "source": [
    "conn_db_collection.insert_many(\n",
    "    [\n",
    "        {'Student ID' : '17102020', 'Grade' : 'Senior'},\n",
    "        {'Github URL' : 'https://github.com/jhryu1208', 'Github User_ID' : 'jhryu1208'}\n",
    "    ]\n",
    ")"
   ]
  },
  {
   "cell_type": "markdown",
   "metadata": {},
   "source": [
    "---\n",
    "- refresh 후 정상적으로 생성 및 저장되어 있음을 확인 할 수 있다.\n",
    "\n",
    "\n",
    "![21](https://user-images.githubusercontent.com/53929665/90897749-8f16f200-e400-11ea-9bf3-c00a1071e8dd.JPG)\n"
   ]
  },
  {
   "cell_type": "markdown",
   "metadata": {},
   "source": [
    "<br>\n",
    "<br>\n",
    "\n",
    "###  <U>참조</U>\n",
    "#### < Document INSERT 후,  _id(primary key)를 확인하는 방법 >"
   ]
  },
  {
   "cell_type": "code",
   "execution_count": 18,
   "metadata": {},
   "outputs": [],
   "source": [
    "email = {'Naver' : 'jhryu1208@naver.com', 'Google' : 'jhryu1208@gmail.com'}"
   ]
  },
  {
   "cell_type": "markdown",
   "metadata": {},
   "source": [
    "----\n",
    "- INSERT된 정보가 email_id 변수에 들어간다."
   ]
  },
  {
   "cell_type": "code",
   "execution_count": 19,
   "metadata": {},
   "outputs": [],
   "source": [
    "email_id = conn_db_collection.insert_one(email)"
   ]
  },
  {
   "cell_type": "markdown",
   "metadata": {},
   "source": [
    "----\n",
    "- INSERT가 성공적으로 되었음을 확인할 수 있다."
   ]
  },
  {
   "cell_type": "code",
   "execution_count": 20,
   "metadata": {},
   "outputs": [
    {
     "data": {
      "text/plain": [
       "<pymongo.results.InsertOneResult at 0x1ad7923fd88>"
      ]
     },
     "execution_count": 20,
     "metadata": {},
     "output_type": "execute_result"
    }
   ],
   "source": [
    "email_id"
   ]
  },
  {
   "cell_type": "markdown",
   "metadata": {},
   "source": [
    "----\n",
    "- `inserted_id`를 사용하여 추가된 데이터의 `primary key`를 확인 할 수 있다.\n",
    "\n",
    "![22](https://user-images.githubusercontent.com/53929665/90961344-1fc5fe80-e4e3-11ea-9207-a433c17d1fde.JPG)\n"
   ]
  },
  {
   "cell_type": "code",
   "execution_count": 21,
   "metadata": {},
   "outputs": [
    {
     "data": {
      "text/plain": [
       "ObjectId('5f414c1684fc9297a70c5c1b')"
      ]
     },
     "execution_count": 21,
     "metadata": {},
     "output_type": "execute_result"
    }
   ],
   "source": [
    "email_id.inserted_id"
   ]
  },
  {
   "cell_type": "markdown",
   "metadata": {},
   "source": [
    "#### < `estimated_document_count()` 메서드는 컬렉션 객체와 함께 쓰여서 총 Document수를 알려준다. >\n",
    "    - count_documents({})\n",
    "    - count() 함수는 최신 pymongo 라이브러리에서는 사용 권장되지 않는다."
   ]
  },
  {
   "cell_type": "markdown",
   "metadata": {},
   "source": [
    "![23](https://user-images.githubusercontent.com/53929665/90961392-89dea380-e4e3-11ea-9907-f9bee6a133b9.JPG)"
   ]
  },
  {
   "cell_type": "code",
   "execution_count": 22,
   "metadata": {},
   "outputs": [
    {
     "data": {
      "text/plain": [
       "4"
      ]
     },
     "execution_count": 22,
     "metadata": {},
     "output_type": "execute_result"
    }
   ],
   "source": [
    "conn_db_collection.count_documents({}) # 위와 동일하게 Document수가 4개인 것을 확인 할 수 있다."
   ]
  },
  {
   "cell_type": "markdown",
   "metadata": {},
   "source": [
    "---\n",
    "- <b>list</b>와 <b>dictionary</b>를 활용하여 insert하기"
   ]
  },
  {
   "cell_type": "code",
   "execution_count": 23,
   "metadata": {},
   "outputs": [
    {
     "data": {
      "text/plain": [
       "<pymongo.results.InsertOneResult at 0x1ad79256e08>"
      ]
     },
     "execution_count": 23,
     "metadata": {},
     "output_type": "execute_result"
    }
   ],
   "source": [
    "# 리스트, 객체 삽입 가능\n",
    "# 총 2개의 document 추가\n",
    "conn_db_collection.insert_one({'title' : '암살', 'castings' : ['이정재', '전지현', '하정우']})\n",
    "conn_db_collection.insert_one(\n",
    "    {\n",
    "        'title' : '실미도', \n",
    "        'castings' : ['설경구', '안성기'], \n",
    "        'datetime' : \n",
    "        {\n",
    "            'year' : '2003', \n",
    "            'month' : 3,\n",
    "            'val' : \n",
    "            {\n",
    "                'a' :\n",
    "                {\n",
    "                    'b' : 1\n",
    "                }\n",
    "            }\n",
    "        }\n",
    "    }\n",
    ")"
   ]
  },
  {
   "cell_type": "code",
   "execution_count": 25,
   "metadata": {},
   "outputs": [
    {
     "data": {
      "text/plain": [
       "<pymongo.results.InsertManyResult at 0x1ad79adc848>"
      ]
     },
     "execution_count": 25,
     "metadata": {},
     "output_type": "execute_result"
    }
   ],
   "source": [
    "# 총 7개의 document 추가\n",
    "data = list()                                    # 리스트 형태의 자료형을 만들어서\n",
    "data.append({'name' : 'aaron', 'age' : 20})      # append함수를 통해 json데이터를 추가할 수있다.\n",
    "data.append({'name' : 'bob', 'age' : 30})\n",
    "data.append({'name' : 'cathy', 'age' : 25})\n",
    "data.append({'name' : 'david', 'age' : 27})\n",
    "data.append({'name' : 'erick', 'age' : 28})\n",
    "data.append({'name' : 'fox', 'age' : 32})\n",
    "data.append({'name' : 'hmm'})\n",
    "\n",
    "conn_db_collection.insert_many(data)"
   ]
  },
  {
   "cell_type": "code",
   "execution_count": 27,
   "metadata": {},
   "outputs": [
    {
     "data": {
      "text/plain": [
       "13"
      ]
     },
     "execution_count": 27,
     "metadata": {},
     "output_type": "execute_result"
    }
   ],
   "source": [
    "# total : 4 + 2 + 7 = 13개\n",
    "conn_db_collection.count_documents({})"
   ]
  },
  {
   "cell_type": "markdown",
   "metadata": {},
   "source": [
    "<br>\n",
    "<br>\n",
    "\n",
    "### (2) Document Read(읽기) ( find_one() 과 find() )"
   ]
  },
  {
   "cell_type": "code",
   "execution_count": 6,
   "metadata": {},
   "outputs": [],
   "source": [
    "import pymongo\n",
    "connection = pymongo.MongoClient()\n",
    "conn_db = connection.test\n",
    "conn_db_collection = conn_db.test_collection"
   ]
  },
  {
   "cell_type": "markdown",
   "metadata": {},
   "source": [
    "----\n",
    "- <b>`find_one()`</b> : 가장 빨리 검색되는 document 검색하기\n",
    "    - collection의 최상단 document가 검색된다."
   ]
  },
  {
   "cell_type": "code",
   "execution_count": 7,
   "metadata": {},
   "outputs": [
    {
     "data": {
      "text/plain": [
       "{'_id': ObjectId('5f3fcaf084fc9297a70c5c18'),\n",
       " 'Name': 'JihyunRyu',\n",
       " 'Age': 23,\n",
       " 'School': 'SeoulTech.Univ',\n",
       " 'Major': 'MSDE'}"
      ]
     },
     "execution_count": 7,
     "metadata": {},
     "output_type": "execute_result"
    }
   ],
   "source": [
    "conn_db_collection.find_one()"
   ]
  },
  {
   "cell_type": "markdown",
   "metadata": {},
   "source": [
    "---\n",
    "- `find_one()` 안에 조건을 넣을 때는 사전 형식 `{key : value}`으로 해야한다.\n",
    "- 조건을 붙여 검색할 경우, 최상단 부터 아래로 내려오면서 조건에 부합한 document를 출력한다."
   ]
  },
  {
   "cell_type": "code",
   "execution_count": 13,
   "metadata": {},
   "outputs": [
    {
     "data": {
      "text/plain": [
       "{'_id': ObjectId('5f414e5b84fc9297a70c5c1e'), 'name': 'aaron', 'age': 20}"
      ]
     },
     "execution_count": 13,
     "metadata": {},
     "output_type": "execute_result"
    }
   ],
   "source": [
    "jihyun = conn_db_collection.find_one( {'age' : 20})\n",
    "jihyun"
   ]
  },
  {
   "cell_type": "markdown",
   "metadata": {},
   "source": [
    "---\n",
    "- <b>`find()`</b> : 검색되는 <U>모든</U> Document 읽어오기\n",
    "    - find 메서드를 이용하면, 반환값은 리스트 형태이다."
   ]
  },
  {
   "cell_type": "code",
   "execution_count": 14,
   "metadata": {},
   "outputs": [],
   "source": [
    "docs = conn_db_collection.find()"
   ]
  },
  {
   "cell_type": "code",
   "execution_count": 15,
   "metadata": {},
   "outputs": [
    {
     "name": "stdout",
     "output_type": "stream",
     "text": [
      "{'_id': ObjectId('5f3fcaf084fc9297a70c5c18'), 'Name': 'JihyunRyu', 'Age': 23, 'School': 'SeoulTech.Univ', 'Major': 'MSDE'}\n",
      "{'_id': ObjectId('5f3fcde484fc9297a70c5c19'), 'Student ID': '17102020', 'Grade': 'Senior'}\n",
      "{'_id': ObjectId('5f3fcde484fc9297a70c5c1a'), 'Github URL': 'https://github.com/jhryu1208', 'Github User_ID': 'jhryu1208'}\n",
      "{'_id': ObjectId('5f414c1684fc9297a70c5c1b'), 'Naver': 'jhryu1208@naver.com', 'Google': 'jhryu1208@gmail.com'}\n",
      "{'_id': ObjectId('5f414e2b84fc9297a70c5c1c'), 'title': '암살', 'castings': ['이정재', '전지현', '하정우']}\n",
      "{'_id': ObjectId('5f414e2b84fc9297a70c5c1d'), 'title': '실미도', 'castings': ['설경구', '안성기'], 'datetime': {'year': '2003', 'month': 3, 'val': {'a': {'b': 1}}}}\n",
      "{'_id': ObjectId('5f414e5b84fc9297a70c5c1e'), 'name': 'aaron', 'age': 20}\n",
      "{'_id': ObjectId('5f414e5b84fc9297a70c5c1f'), 'name': 'bob', 'age': 30}\n",
      "{'_id': ObjectId('5f414e5b84fc9297a70c5c20'), 'name': 'cathy', 'age': 25}\n",
      "{'_id': ObjectId('5f414e5b84fc9297a70c5c21'), 'name': 'david', 'age': 27}\n",
      "{'_id': ObjectId('5f414e5b84fc9297a70c5c22'), 'name': 'erick', 'age': 28}\n",
      "{'_id': ObjectId('5f414e5b84fc9297a70c5c23'), 'name': 'fox', 'age': 32}\n",
      "{'_id': ObjectId('5f414e5b84fc9297a70c5c24'), 'name': 'hmm'}\n"
     ]
    }
   ],
   "source": [
    "for doc in docs:\n",
    "    print(doc)"
   ]
  },
  {
   "cell_type": "markdown",
   "metadata": {},
   "source": [
    "---\n",
    "- `find_one()` 과 마찬가지로, `find()` 안에 조건을 넣으면 모든 Document중 해당 조건을 만족하는 Document만 반환된다."
   ]
  },
  {
   "cell_type": "code",
   "execution_count": 21,
   "metadata": {},
   "outputs": [
    {
     "name": "stdout",
     "output_type": "stream",
     "text": [
      "{'_id': ObjectId('5f414e5b84fc9297a70c5c23'), 'name': 'fox', 'age': 32}\n"
     ]
    }
   ],
   "source": [
    "for doc in conn_db_collection.find( {'age' : 32 }):\n",
    "    print(doc)"
   ]
  },
  {
   "cell_type": "markdown",
   "metadata": {},
   "source": [
    "---\n",
    "- <b>`count_documents()`</b> : 조건에 맞는 Document 갯수 출력"
   ]
  },
  {
   "cell_type": "code",
   "execution_count": 24,
   "metadata": {},
   "outputs": [
    {
     "data": {
      "text/plain": [
       "1"
      ]
     },
     "execution_count": 24,
     "metadata": {},
     "output_type": "execute_result"
    }
   ],
   "source": [
    "conn_db_collection.count_documents({'age': 32})"
   ]
  },
  {
   "cell_type": "markdown",
   "metadata": {},
   "source": [
    "---\n",
    "- <b>`sort()`</b> : 오름차순 정렬"
   ]
  },
  {
   "cell_type": "code",
   "execution_count": 29,
   "metadata": {},
   "outputs": [
    {
     "name": "stdout",
     "output_type": "stream",
     "text": [
      "{'_id': ObjectId('5f3fcaf084fc9297a70c5c18'), 'Name': 'JihyunRyu', 'Age': 23, 'School': 'SeoulTech.Univ', 'Major': 'MSDE'}\n",
      "{'_id': ObjectId('5f3fcde484fc9297a70c5c19'), 'Student ID': '17102020', 'Grade': 'Senior'}\n",
      "{'_id': ObjectId('5f3fcde484fc9297a70c5c1a'), 'Github URL': 'https://github.com/jhryu1208', 'Github User_ID': 'jhryu1208'}\n",
      "{'_id': ObjectId('5f414c1684fc9297a70c5c1b'), 'Naver': 'jhryu1208@naver.com', 'Google': 'jhryu1208@gmail.com'}\n",
      "{'_id': ObjectId('5f414e2b84fc9297a70c5c1c'), 'title': '암살', 'castings': ['이정재', '전지현', '하정우']}\n",
      "{'_id': ObjectId('5f414e2b84fc9297a70c5c1d'), 'title': '실미도', 'castings': ['설경구', '안성기'], 'datetime': {'year': '2003', 'month': 3, 'val': {'a': {'b': 1}}}}\n",
      "{'_id': ObjectId('5f414e5b84fc9297a70c5c24'), 'name': 'hmm'}\n",
      "{'_id': ObjectId('5f414e5b84fc9297a70c5c1e'), 'name': 'aaron', 'age': 20}\n",
      "{'_id': ObjectId('5f414e5b84fc9297a70c5c20'), 'name': 'cathy', 'age': 25}\n",
      "{'_id': ObjectId('5f414e5b84fc9297a70c5c21'), 'name': 'david', 'age': 27}\n",
      "{'_id': ObjectId('5f414e5b84fc9297a70c5c22'), 'name': 'erick', 'age': 28}\n",
      "{'_id': ObjectId('5f414e5b84fc9297a70c5c1f'), 'name': 'bob', 'age': 30}\n",
      "{'_id': ObjectId('5f414e5b84fc9297a70c5c23'), 'name': 'fox', 'age': 32}\n"
     ]
    }
   ],
   "source": [
    "docs = conn_db_collection.find().sort('age')\n",
    "\n",
    "for doc in docs:\n",
    "    print(doc)"
   ]
  },
  {
   "cell_type": "markdown",
   "metadata": {},
   "source": [
    "<br>\n",
    "<br>\n",
    "\n",
    "### (3) Document Update(수정) ( update_one() 과 update_many() )\n",
    "---\n",
    "- <b>`update_one()`</b> : 가장 먼저 검색되는 한 종류의 Docuemnt만 수정하기"
   ]
  },
  {
   "cell_type": "code",
   "execution_count": 30,
   "metadata": {},
   "outputs": [
    {
     "data": {
      "text/plain": [
       "{'_id': ObjectId('5f3fcaf084fc9297a70c5c18'),\n",
       " 'Name': 'JihyunRyu',\n",
       " 'Age': 23,\n",
       " 'School': 'SeoulTech.Univ',\n",
       " 'Major': 'MSDE'}"
      ]
     },
     "execution_count": 30,
     "metadata": {},
     "output_type": "execute_result"
    }
   ],
   "source": [
    "conn_db_collection.find_one()"
   ]
  },
  {
   "cell_type": "markdown",
   "metadata": {},
   "source": [
    "- <U>이때, $set 사용시, 없는 key를 삽입해서 데이터를 추가할 수 있다.</U>"
   ]
  },
  {
   "cell_type": "code",
   "execution_count": 40,
   "metadata": {},
   "outputs": [
    {
     "data": {
      "text/plain": [
       "<pymongo.results.UpdateResult at 0x20ac25ec408>"
      ]
     },
     "execution_count": 40,
     "metadata": {},
     "output_type": "execute_result"
    }
   ],
   "source": [
    "conn_db_collection.update_one( {'Name' : 'JihyunRyu' },\n",
    "    { '$set' : {'Major' : 'Manufacturing Systems and Design Engineering' } }\n",
    ")"
   ]
  },
  {
   "cell_type": "code",
   "execution_count": 41,
   "metadata": {},
   "outputs": [
    {
     "data": {
      "text/plain": [
       "{'_id': ObjectId('5f3fcaf084fc9297a70c5c18'),\n",
       " 'Name': 'JihyunRyu',\n",
       " 'Age': 23,\n",
       " 'School': 'SeoulTech.Univ',\n",
       " 'Major': 'Manufacturing Systems and Design Engineering'}"
      ]
     },
     "execution_count": 41,
     "metadata": {},
     "output_type": "execute_result"
    }
   ],
   "source": [
    "conn_db_collection.find_one()"
   ]
  },
  {
   "cell_type": "markdown",
   "metadata": {},
   "source": [
    "___\n",
    "- <b>update_many()</b> : 조건에 맞는 <U>모든</U> Document 수정하기"
   ]
  },
  {
   "cell_type": "code",
   "execution_count": 45,
   "metadata": {},
   "outputs": [
    {
     "name": "stdout",
     "output_type": "stream",
     "text": [
      "{'_id': ObjectId('5f414e5b84fc9297a70c5c1f'), 'name': 'bob', 'age': 30}\n",
      "{'_id': ObjectId('5f414e5b84fc9297a70c5c20'), 'name': 'cathy', 'age': 25}\n",
      "{'_id': ObjectId('5f414e5b84fc9297a70c5c21'), 'name': 'david', 'age': 27}\n",
      "{'_id': ObjectId('5f414e5b84fc9297a70c5c22'), 'name': 'erick', 'age': 28}\n",
      "{'_id': ObjectId('5f414e5b84fc9297a70c5c23'), 'name': 'fox', 'age': 32}\n"
     ]
    }
   ],
   "source": [
    "for doc in conn_db_collection.find( {  'age' : {'$gt' : 23} } ):\n",
    "    print(doc)"
   ]
  },
  {
   "cell_type": "code",
   "execution_count": 47,
   "metadata": {},
   "outputs": [
    {
     "name": "stdout",
     "output_type": "stream",
     "text": [
      "{'_id': ObjectId('5f414e5b84fc9297a70c5c1f'), 'name': 'jhryu1208', 'age': 30}\n",
      "{'_id': ObjectId('5f414e5b84fc9297a70c5c20'), 'name': 'jhryu1208', 'age': 25}\n",
      "{'_id': ObjectId('5f414e5b84fc9297a70c5c21'), 'name': 'jhryu1208', 'age': 27}\n",
      "{'_id': ObjectId('5f414e5b84fc9297a70c5c22'), 'name': 'jhryu1208', 'age': 28}\n",
      "{'_id': ObjectId('5f414e5b84fc9297a70c5c23'), 'name': 'jhryu1208', 'age': 32}\n"
     ]
    }
   ],
   "source": [
    "conn_db_collection.update_many( { 'age' : { '$gt' : 23 } }, \n",
    "                               { '$set' : { 'name':'jhryu1208' } }\n",
    "                              )\n",
    "\n",
    "for doc in conn_db_collection.find( {  'age' : {'$gt' : 23} } ):\n",
    "    print(doc)"
   ]
  },
  {
   "cell_type": "markdown",
   "metadata": {},
   "source": [
    "<br>\n",
    "<br>\n",
    "\n",
    "### (4) Document Delete(삭제) ( delete_one() 과 delete_many() )\n",
    "---\n",
    "- <b>`delete_one()`</b> : 가장 먼저 검색되는 한가지 Document만 삭제하기"
   ]
  },
  {
   "cell_type": "code",
   "execution_count": 49,
   "metadata": {},
   "outputs": [
    {
     "name": "stdout",
     "output_type": "stream",
     "text": [
      "{'_id': ObjectId('5f414e5b84fc9297a70c5c1f'), 'name': 'jhryu1208', 'age': 30}\n",
      "{'_id': ObjectId('5f414e5b84fc9297a70c5c20'), 'name': 'jhryu1208', 'age': 25}\n",
      "{'_id': ObjectId('5f414e5b84fc9297a70c5c21'), 'name': 'jhryu1208', 'age': 27}\n",
      "{'_id': ObjectId('5f414e5b84fc9297a70c5c22'), 'name': 'jhryu1208', 'age': 28}\n",
      "{'_id': ObjectId('5f414e5b84fc9297a70c5c23'), 'name': 'jhryu1208', 'age': 32}\n"
     ]
    }
   ],
   "source": [
    "docs = conn_db_collection.find({'name' : 'jhryu1208'})\n",
    "\n",
    "for doc in docs:\n",
    "    print(doc)"
   ]
  },
  {
   "cell_type": "code",
   "execution_count": 51,
   "metadata": {},
   "outputs": [
    {
     "name": "stdout",
     "output_type": "stream",
     "text": [
      "{'_id': ObjectId('5f414e5b84fc9297a70c5c21'), 'name': 'jhryu1208', 'age': 27}\n",
      "{'_id': ObjectId('5f414e5b84fc9297a70c5c22'), 'name': 'jhryu1208', 'age': 28}\n",
      "{'_id': ObjectId('5f414e5b84fc9297a70c5c23'), 'name': 'jhryu1208', 'age': 32}\n"
     ]
    }
   ],
   "source": [
    "conn_db_collection.delete_one({'name' : 'jhryu1208'})\n",
    "\n",
    "# 맨 첫줄 Document가 삭제되었음을 확인할 수 있다.\n",
    "docs = conn_db_collection.find({'name' : 'jhryu1208'})\n",
    "for doc in docs:\n",
    "    print(doc)"
   ]
  },
  {
   "cell_type": "markdown",
   "metadata": {},
   "source": [
    "---\n",
    "- <b>`delete_many()`</b> : 조건에 맞는 모든 Document 삭제하기 "
   ]
  },
  {
   "cell_type": "code",
   "execution_count": 52,
   "metadata": {},
   "outputs": [],
   "source": [
    "conn_db_collection.delete_many( {'name' : 'jhryu1208'} )\n",
    "\n",
    "docs = conn_db_collection.find({'name' : 'jhryu1208'})\n",
    "for doc in docs:\n",
    "    print(doc)"
   ]
  },
  {
   "cell_type": "code",
   "execution_count": 53,
   "metadata": {},
   "outputs": [
    {
     "data": {
      "text/plain": [
       "0"
      ]
     },
     "execution_count": 53,
     "metadata": {},
     "output_type": "execute_result"
    }
   ],
   "source": [
    "# name이 jhryu1208인 모든 Document가 삭제되었음을 확인 할 수 있다.\n",
    "conn_db_collection.count_documents({'name' : 'jhryu1208'})"
   ]
  },
  {
   "cell_type": "markdown",
   "metadata": {},
   "source": [
    "<br>\n",
    "<br>\n",
    "<br>\n",
    "\n",
    "<div class=\"alert alert-block alert-success\">\n",
    "<font color=\"blue\" size=\"4em\">실습</font><br>\n",
    "student_number 가 30보다 큰(>) doc 삭제하기\n",
    "</div>"
   ]
  },
  {
   "cell_type": "code",
   "execution_count": 70,
   "metadata": {},
   "outputs": [],
   "source": [
    "student_data = list()\n",
    "for num in range(1,51):\n",
    "    \n",
    "    if num >= 1 and num <= 25 :\n",
    "        student_data.append({'name' : 'student'+ str(num),'student_number' : num, 'sex' : 'male' })\n",
    "    \n",
    "    elif num >= 26 and num <= 50 :\n",
    "        student_data.append({'name' : 'student'+ str(num),'student_number' : num, 'sex' : 'female' })\n"
   ]
  },
  {
   "cell_type": "code",
   "execution_count": 71,
   "metadata": {
    "scrolled": true
   },
   "outputs": [
    {
     "data": {
      "text/plain": [
       "[{'name': 'student1', 'student_number': 1, 'sex': 'male'},\n",
       " {'name': 'student2', 'student_number': 2, 'sex': 'male'},\n",
       " {'name': 'student3', 'student_number': 3, 'sex': 'male'},\n",
       " {'name': 'student4', 'student_number': 4, 'sex': 'male'},\n",
       " {'name': 'student5', 'student_number': 5, 'sex': 'male'},\n",
       " {'name': 'student6', 'student_number': 6, 'sex': 'male'},\n",
       " {'name': 'student7', 'student_number': 7, 'sex': 'male'},\n",
       " {'name': 'student8', 'student_number': 8, 'sex': 'male'},\n",
       " {'name': 'student9', 'student_number': 9, 'sex': 'male'},\n",
       " {'name': 'student10', 'student_number': 10, 'sex': 'male'},\n",
       " {'name': 'student11', 'student_number': 11, 'sex': 'male'},\n",
       " {'name': 'student12', 'student_number': 12, 'sex': 'male'},\n",
       " {'name': 'student13', 'student_number': 13, 'sex': 'male'},\n",
       " {'name': 'student14', 'student_number': 14, 'sex': 'male'},\n",
       " {'name': 'student15', 'student_number': 15, 'sex': 'male'},\n",
       " {'name': 'student16', 'student_number': 16, 'sex': 'male'},\n",
       " {'name': 'student17', 'student_number': 17, 'sex': 'male'},\n",
       " {'name': 'student18', 'student_number': 18, 'sex': 'male'},\n",
       " {'name': 'student19', 'student_number': 19, 'sex': 'male'},\n",
       " {'name': 'student20', 'student_number': 20, 'sex': 'male'},\n",
       " {'name': 'student21', 'student_number': 21, 'sex': 'male'},\n",
       " {'name': 'student22', 'student_number': 22, 'sex': 'male'},\n",
       " {'name': 'student23', 'student_number': 23, 'sex': 'male'},\n",
       " {'name': 'student24', 'student_number': 24, 'sex': 'male'},\n",
       " {'name': 'student25', 'student_number': 25, 'sex': 'male'},\n",
       " {'name': 'student26', 'student_number': 26, 'sex': 'female'},\n",
       " {'name': 'student27', 'student_number': 27, 'sex': 'female'},\n",
       " {'name': 'student28', 'student_number': 28, 'sex': 'female'},\n",
       " {'name': 'student29', 'student_number': 29, 'sex': 'female'},\n",
       " {'name': 'student30', 'student_number': 30, 'sex': 'female'},\n",
       " {'name': 'student31', 'student_number': 31, 'sex': 'female'},\n",
       " {'name': 'student32', 'student_number': 32, 'sex': 'female'},\n",
       " {'name': 'student33', 'student_number': 33, 'sex': 'female'},\n",
       " {'name': 'student34', 'student_number': 34, 'sex': 'female'},\n",
       " {'name': 'student35', 'student_number': 35, 'sex': 'female'},\n",
       " {'name': 'student36', 'student_number': 36, 'sex': 'female'},\n",
       " {'name': 'student37', 'student_number': 37, 'sex': 'female'},\n",
       " {'name': 'student38', 'student_number': 38, 'sex': 'female'},\n",
       " {'name': 'student39', 'student_number': 39, 'sex': 'female'},\n",
       " {'name': 'student40', 'student_number': 40, 'sex': 'female'},\n",
       " {'name': 'student41', 'student_number': 41, 'sex': 'female'},\n",
       " {'name': 'student42', 'student_number': 42, 'sex': 'female'},\n",
       " {'name': 'student43', 'student_number': 43, 'sex': 'female'},\n",
       " {'name': 'student44', 'student_number': 44, 'sex': 'female'},\n",
       " {'name': 'student45', 'student_number': 45, 'sex': 'female'},\n",
       " {'name': 'student46', 'student_number': 46, 'sex': 'female'},\n",
       " {'name': 'student47', 'student_number': 47, 'sex': 'female'},\n",
       " {'name': 'student48', 'student_number': 48, 'sex': 'female'},\n",
       " {'name': 'student49', 'student_number': 49, 'sex': 'female'},\n",
       " {'name': 'student50', 'student_number': 50, 'sex': 'female'}]"
      ]
     },
     "execution_count": 71,
     "metadata": {},
     "output_type": "execute_result"
    }
   ],
   "source": [
    "student_data"
   ]
  },
  {
   "cell_type": "code",
   "execution_count": 91,
   "metadata": {},
   "outputs": [],
   "source": [
    "import pymongo\n",
    "\n",
    "host_conn = pymongo.MongoClient()\n",
    "test = host_conn.test\n",
    "test_student_collection = test.test_student_collection"
   ]
  },
  {
   "cell_type": "code",
   "execution_count": 97,
   "metadata": {},
   "outputs": [
    {
     "data": {
      "text/plain": [
       "<pymongo.results.InsertManyResult at 0x20ac39a4c08>"
      ]
     },
     "execution_count": 97,
     "metadata": {},
     "output_type": "execute_result"
    }
   ],
   "source": [
    "# CRUD - CREATE(INSERT)\n",
    "test_student_collection.insert_many(student_data)"
   ]
  },
  {
   "cell_type": "code",
   "execution_count": 98,
   "metadata": {
    "scrolled": true
   },
   "outputs": [
    {
     "name": "stdout",
     "output_type": "stream",
     "text": [
      "{'_id': ObjectId('5f420599e4f5317ad0929d47'), 'name': 'student1', 'student_number': 1, 'sex': 'male'}\n",
      "{'_id': ObjectId('5f420599e4f5317ad0929d48'), 'name': 'student2', 'student_number': 2, 'sex': 'male'}\n",
      "{'_id': ObjectId('5f420599e4f5317ad0929d49'), 'name': 'student3', 'student_number': 3, 'sex': 'male'}\n",
      "{'_id': ObjectId('5f420599e4f5317ad0929d4a'), 'name': 'student4', 'student_number': 4, 'sex': 'male'}\n",
      "{'_id': ObjectId('5f420599e4f5317ad0929d4b'), 'name': 'student5', 'student_number': 5, 'sex': 'male'}\n",
      "{'_id': ObjectId('5f420599e4f5317ad0929d4c'), 'name': 'student6', 'student_number': 6, 'sex': 'male'}\n",
      "{'_id': ObjectId('5f420599e4f5317ad0929d4d'), 'name': 'student7', 'student_number': 7, 'sex': 'male'}\n",
      "{'_id': ObjectId('5f420599e4f5317ad0929d4e'), 'name': 'student8', 'student_number': 8, 'sex': 'male'}\n",
      "{'_id': ObjectId('5f420599e4f5317ad0929d4f'), 'name': 'student9', 'student_number': 9, 'sex': 'male'}\n",
      "{'_id': ObjectId('5f420599e4f5317ad0929d50'), 'name': 'student10', 'student_number': 10, 'sex': 'male'}\n",
      "{'_id': ObjectId('5f420599e4f5317ad0929d51'), 'name': 'student11', 'student_number': 11, 'sex': 'male'}\n",
      "{'_id': ObjectId('5f420599e4f5317ad0929d52'), 'name': 'student12', 'student_number': 12, 'sex': 'male'}\n",
      "{'_id': ObjectId('5f420599e4f5317ad0929d53'), 'name': 'student13', 'student_number': 13, 'sex': 'male'}\n",
      "{'_id': ObjectId('5f420599e4f5317ad0929d54'), 'name': 'student14', 'student_number': 14, 'sex': 'male'}\n",
      "{'_id': ObjectId('5f420599e4f5317ad0929d55'), 'name': 'student15', 'student_number': 15, 'sex': 'male'}\n",
      "{'_id': ObjectId('5f420599e4f5317ad0929d56'), 'name': 'student16', 'student_number': 16, 'sex': 'male'}\n",
      "{'_id': ObjectId('5f420599e4f5317ad0929d57'), 'name': 'student17', 'student_number': 17, 'sex': 'male'}\n",
      "{'_id': ObjectId('5f420599e4f5317ad0929d58'), 'name': 'student18', 'student_number': 18, 'sex': 'male'}\n",
      "{'_id': ObjectId('5f420599e4f5317ad0929d59'), 'name': 'student19', 'student_number': 19, 'sex': 'male'}\n",
      "{'_id': ObjectId('5f420599e4f5317ad0929d5a'), 'name': 'student20', 'student_number': 20, 'sex': 'male'}\n",
      "{'_id': ObjectId('5f420599e4f5317ad0929d5b'), 'name': 'student21', 'student_number': 21, 'sex': 'male'}\n",
      "{'_id': ObjectId('5f420599e4f5317ad0929d5c'), 'name': 'student22', 'student_number': 22, 'sex': 'male'}\n",
      "{'_id': ObjectId('5f420599e4f5317ad0929d5d'), 'name': 'student23', 'student_number': 23, 'sex': 'male'}\n",
      "{'_id': ObjectId('5f420599e4f5317ad0929d5e'), 'name': 'student24', 'student_number': 24, 'sex': 'male'}\n",
      "{'_id': ObjectId('5f420599e4f5317ad0929d5f'), 'name': 'student25', 'student_number': 25, 'sex': 'male'}\n",
      "{'_id': ObjectId('5f420599e4f5317ad0929d60'), 'name': 'student26', 'student_number': 26, 'sex': 'female'}\n",
      "{'_id': ObjectId('5f420599e4f5317ad0929d61'), 'name': 'student27', 'student_number': 27, 'sex': 'female'}\n",
      "{'_id': ObjectId('5f420599e4f5317ad0929d62'), 'name': 'student28', 'student_number': 28, 'sex': 'female'}\n",
      "{'_id': ObjectId('5f420599e4f5317ad0929d63'), 'name': 'student29', 'student_number': 29, 'sex': 'female'}\n",
      "{'_id': ObjectId('5f420599e4f5317ad0929d64'), 'name': 'student30', 'student_number': 30, 'sex': 'female'}\n",
      "{'_id': ObjectId('5f420599e4f5317ad0929d65'), 'name': 'student31', 'student_number': 31, 'sex': 'female'}\n",
      "{'_id': ObjectId('5f420599e4f5317ad0929d66'), 'name': 'student32', 'student_number': 32, 'sex': 'female'}\n",
      "{'_id': ObjectId('5f420599e4f5317ad0929d67'), 'name': 'student33', 'student_number': 33, 'sex': 'female'}\n",
      "{'_id': ObjectId('5f420599e4f5317ad0929d68'), 'name': 'student34', 'student_number': 34, 'sex': 'female'}\n",
      "{'_id': ObjectId('5f420599e4f5317ad0929d69'), 'name': 'student35', 'student_number': 35, 'sex': 'female'}\n",
      "{'_id': ObjectId('5f420599e4f5317ad0929d6a'), 'name': 'student36', 'student_number': 36, 'sex': 'female'}\n",
      "{'_id': ObjectId('5f420599e4f5317ad0929d6b'), 'name': 'student37', 'student_number': 37, 'sex': 'female'}\n",
      "{'_id': ObjectId('5f420599e4f5317ad0929d6c'), 'name': 'student38', 'student_number': 38, 'sex': 'female'}\n",
      "{'_id': ObjectId('5f420599e4f5317ad0929d6d'), 'name': 'student39', 'student_number': 39, 'sex': 'female'}\n",
      "{'_id': ObjectId('5f420599e4f5317ad0929d6e'), 'name': 'student40', 'student_number': 40, 'sex': 'female'}\n",
      "{'_id': ObjectId('5f420599e4f5317ad0929d6f'), 'name': 'student41', 'student_number': 41, 'sex': 'female'}\n",
      "{'_id': ObjectId('5f420599e4f5317ad0929d70'), 'name': 'student42', 'student_number': 42, 'sex': 'female'}\n",
      "{'_id': ObjectId('5f420599e4f5317ad0929d71'), 'name': 'student43', 'student_number': 43, 'sex': 'female'}\n",
      "{'_id': ObjectId('5f420599e4f5317ad0929d72'), 'name': 'student44', 'student_number': 44, 'sex': 'female'}\n",
      "{'_id': ObjectId('5f420599e4f5317ad0929d73'), 'name': 'student45', 'student_number': 45, 'sex': 'female'}\n",
      "{'_id': ObjectId('5f420599e4f5317ad0929d74'), 'name': 'student46', 'student_number': 46, 'sex': 'female'}\n",
      "{'_id': ObjectId('5f420599e4f5317ad0929d75'), 'name': 'student47', 'student_number': 47, 'sex': 'female'}\n",
      "{'_id': ObjectId('5f420599e4f5317ad0929d76'), 'name': 'student48', 'student_number': 48, 'sex': 'female'}\n",
      "{'_id': ObjectId('5f420599e4f5317ad0929d77'), 'name': 'student49', 'student_number': 49, 'sex': 'female'}\n",
      "{'_id': ObjectId('5f420599e4f5317ad0929d78'), 'name': 'student50', 'student_number': 50, 'sex': 'female'}\n"
     ]
    }
   ],
   "source": [
    "# CRUD - READ\n",
    "for docs in test_student_collection.find({}):\n",
    "    print(docs)"
   ]
  },
  {
   "cell_type": "code",
   "execution_count": 100,
   "metadata": {
    "scrolled": true
   },
   "outputs": [
    {
     "name": "stdout",
     "output_type": "stream",
     "text": [
      "{'_id': ObjectId('5f420599e4f5317ad0929d47'), 'name': 'student1', 'student_number': 1, 'sex': 'female'}\n",
      "{'_id': ObjectId('5f420599e4f5317ad0929d48'), 'name': 'student2', 'student_number': 2, 'sex': 'female'}\n",
      "{'_id': ObjectId('5f420599e4f5317ad0929d49'), 'name': 'student3', 'student_number': 3, 'sex': 'female'}\n",
      "{'_id': ObjectId('5f420599e4f5317ad0929d4a'), 'name': 'student4', 'student_number': 4, 'sex': 'female'}\n",
      "{'_id': ObjectId('5f420599e4f5317ad0929d4b'), 'name': 'student5', 'student_number': 5, 'sex': 'female'}\n",
      "{'_id': ObjectId('5f420599e4f5317ad0929d4c'), 'name': 'student6', 'student_number': 6, 'sex': 'female'}\n",
      "{'_id': ObjectId('5f420599e4f5317ad0929d4d'), 'name': 'student7', 'student_number': 7, 'sex': 'female'}\n",
      "{'_id': ObjectId('5f420599e4f5317ad0929d4e'), 'name': 'student8', 'student_number': 8, 'sex': 'female'}\n",
      "{'_id': ObjectId('5f420599e4f5317ad0929d4f'), 'name': 'student9', 'student_number': 9, 'sex': 'female'}\n",
      "{'_id': ObjectId('5f420599e4f5317ad0929d50'), 'name': 'student10', 'student_number': 10, 'sex': 'female'}\n",
      "{'_id': ObjectId('5f420599e4f5317ad0929d51'), 'name': 'student11', 'student_number': 11, 'sex': 'female'}\n",
      "{'_id': ObjectId('5f420599e4f5317ad0929d52'), 'name': 'student12', 'student_number': 12, 'sex': 'female'}\n",
      "{'_id': ObjectId('5f420599e4f5317ad0929d53'), 'name': 'student13', 'student_number': 13, 'sex': 'female'}\n",
      "{'_id': ObjectId('5f420599e4f5317ad0929d54'), 'name': 'student14', 'student_number': 14, 'sex': 'female'}\n",
      "{'_id': ObjectId('5f420599e4f5317ad0929d55'), 'name': 'student15', 'student_number': 15, 'sex': 'female'}\n",
      "{'_id': ObjectId('5f420599e4f5317ad0929d56'), 'name': 'student16', 'student_number': 16, 'sex': 'female'}\n",
      "{'_id': ObjectId('5f420599e4f5317ad0929d57'), 'name': 'student17', 'student_number': 17, 'sex': 'female'}\n",
      "{'_id': ObjectId('5f420599e4f5317ad0929d58'), 'name': 'student18', 'student_number': 18, 'sex': 'female'}\n",
      "{'_id': ObjectId('5f420599e4f5317ad0929d59'), 'name': 'student19', 'student_number': 19, 'sex': 'female'}\n",
      "{'_id': ObjectId('5f420599e4f5317ad0929d5a'), 'name': 'student20', 'student_number': 20, 'sex': 'female'}\n",
      "{'_id': ObjectId('5f420599e4f5317ad0929d5b'), 'name': 'student21', 'student_number': 21, 'sex': 'female'}\n",
      "{'_id': ObjectId('5f420599e4f5317ad0929d5c'), 'name': 'student22', 'student_number': 22, 'sex': 'female'}\n",
      "{'_id': ObjectId('5f420599e4f5317ad0929d5d'), 'name': 'student23', 'student_number': 23, 'sex': 'female'}\n",
      "{'_id': ObjectId('5f420599e4f5317ad0929d5e'), 'name': 'student24', 'student_number': 24, 'sex': 'female'}\n",
      "{'_id': ObjectId('5f420599e4f5317ad0929d5f'), 'name': 'student25', 'student_number': 25, 'sex': 'female'}\n",
      "{'_id': ObjectId('5f420599e4f5317ad0929d60'), 'name': 'student26', 'student_number': 26, 'sex': 'female'}\n",
      "{'_id': ObjectId('5f420599e4f5317ad0929d61'), 'name': 'student27', 'student_number': 27, 'sex': 'female'}\n",
      "{'_id': ObjectId('5f420599e4f5317ad0929d62'), 'name': 'student28', 'student_number': 28, 'sex': 'female'}\n",
      "{'_id': ObjectId('5f420599e4f5317ad0929d63'), 'name': 'student29', 'student_number': 29, 'sex': 'female'}\n",
      "{'_id': ObjectId('5f420599e4f5317ad0929d64'), 'name': 'student30', 'student_number': 30, 'sex': 'female'}\n",
      "{'_id': ObjectId('5f420599e4f5317ad0929d65'), 'name': 'student31', 'student_number': 31, 'sex': 'female'}\n",
      "{'_id': ObjectId('5f420599e4f5317ad0929d66'), 'name': 'student32', 'student_number': 32, 'sex': 'female'}\n",
      "{'_id': ObjectId('5f420599e4f5317ad0929d67'), 'name': 'student33', 'student_number': 33, 'sex': 'female'}\n",
      "{'_id': ObjectId('5f420599e4f5317ad0929d68'), 'name': 'student34', 'student_number': 34, 'sex': 'female'}\n",
      "{'_id': ObjectId('5f420599e4f5317ad0929d69'), 'name': 'student35', 'student_number': 35, 'sex': 'female'}\n",
      "{'_id': ObjectId('5f420599e4f5317ad0929d6a'), 'name': 'student36', 'student_number': 36, 'sex': 'female'}\n",
      "{'_id': ObjectId('5f420599e4f5317ad0929d6b'), 'name': 'student37', 'student_number': 37, 'sex': 'female'}\n",
      "{'_id': ObjectId('5f420599e4f5317ad0929d6c'), 'name': 'student38', 'student_number': 38, 'sex': 'female'}\n",
      "{'_id': ObjectId('5f420599e4f5317ad0929d6d'), 'name': 'student39', 'student_number': 39, 'sex': 'female'}\n",
      "{'_id': ObjectId('5f420599e4f5317ad0929d6e'), 'name': 'student40', 'student_number': 40, 'sex': 'female'}\n",
      "{'_id': ObjectId('5f420599e4f5317ad0929d6f'), 'name': 'student41', 'student_number': 41, 'sex': 'female'}\n",
      "{'_id': ObjectId('5f420599e4f5317ad0929d70'), 'name': 'student42', 'student_number': 42, 'sex': 'female'}\n",
      "{'_id': ObjectId('5f420599e4f5317ad0929d71'), 'name': 'student43', 'student_number': 43, 'sex': 'female'}\n",
      "{'_id': ObjectId('5f420599e4f5317ad0929d72'), 'name': 'student44', 'student_number': 44, 'sex': 'female'}\n",
      "{'_id': ObjectId('5f420599e4f5317ad0929d73'), 'name': 'student45', 'student_number': 45, 'sex': 'female'}\n",
      "{'_id': ObjectId('5f420599e4f5317ad0929d74'), 'name': 'student46', 'student_number': 46, 'sex': 'female'}\n",
      "{'_id': ObjectId('5f420599e4f5317ad0929d75'), 'name': 'student47', 'student_number': 47, 'sex': 'female'}\n",
      "{'_id': ObjectId('5f420599e4f5317ad0929d76'), 'name': 'student48', 'student_number': 48, 'sex': 'female'}\n",
      "{'_id': ObjectId('5f420599e4f5317ad0929d77'), 'name': 'student49', 'student_number': 49, 'sex': 'female'}\n",
      "{'_id': ObjectId('5f420599e4f5317ad0929d78'), 'name': 'student50', 'student_number': 50, 'sex': 'female'}\n"
     ]
    }
   ],
   "source": [
    "# CRUD - Update\n",
    "test_student_collection.update_many({'sex':'male'},{'$set' : {'sex':'female'}})\n",
    "\n",
    "for docs in test_student_collection.find({}):\n",
    "    print(docs)"
   ]
  },
  {
   "cell_type": "code",
   "execution_count": 104,
   "metadata": {},
   "outputs": [
    {
     "data": {
      "text/plain": [
       "30"
      ]
     },
     "execution_count": 104,
     "metadata": {},
     "output_type": "execute_result"
    }
   ],
   "source": [
    "# CRUD - Delete\n",
    "test_student_collection.delete_many({'student_number' : {'$gt' : 30}})\n",
    "\n",
    "test_student_collection.count_documents({})"
   ]
  }
 ],
 "metadata": {
  "kernelspec": {
   "display_name": "Python 3",
   "language": "python",
   "name": "python3"
  },
  "language_info": {
   "codemirror_mode": {
    "name": "ipython",
    "version": 3
   },
   "file_extension": ".py",
   "mimetype": "text/x-python",
   "name": "python",
   "nbconvert_exporter": "python",
   "pygments_lexer": "ipython3",
   "version": "3.7.7"
  }
 },
 "nbformat": 4,
 "nbformat_minor": 4
}
