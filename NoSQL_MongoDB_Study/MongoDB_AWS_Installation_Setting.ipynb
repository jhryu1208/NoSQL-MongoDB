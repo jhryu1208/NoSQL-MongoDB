{
 "cells": [
  {
   "cell_type": "markdown",
   "metadata": {},
   "source": [
    "## 1. mongoDB 설치 및 환경 구축 \n",
    "\n",
    "### (1) mongodb  설치 방법 (맥 환경)\n",
    "\n",
    "* Homebrew 프로그램을 사용해서 설치하는 것이 가장 쉬움\n",
    "  - https://brew.sh/index_ko \n",
    "  - /usr/bin/ruby -e \"$(curl -fsSL https://raw.githubusercontent.com/Homebrew/install/master/install)\"\n",
    "  \n",
    "* Homebrew 설치 후\n",
    "  - brew install mongodb\n",
    "  \n",
    "* mongodb 설치 후\n",
    "  - mongod 또는 brew services start mongodb "
   ]
  },
  {
   "cell_type": "markdown",
   "metadata": {},
   "source": [
    " ### (2) mongodb  설치 방법 (윈도우 환경)\n",
    "\n",
    "    \n",
    "* https://www.mongodb.com/download-center/community 이동 후, .msi 파일 다운로드 및 설치\n",
    "* 참고 블로그: https://javacpro.tistory.com/64"
   ]
  },
  {
   "cell_type": "markdown",
   "metadata": {},
   "source": [
    "## 2. EC2(AWS) mongoDB 설치 (Ubuntu기반)\n",
    "### (1)AWS 접속 명령어(for Window Powershell / Mac Terminal)\n",
    "- chmod 400 your.pem\n",
    "- ssh -i your.pem ubuntu@your_aws_ip\n",
    "\n",
    "\n",
    "### (2)AWS 환경 접속후 수행해야할 설치 명령어\n",
    "* <b>Import the public key(GPG key) used by the package management system.</b>\n",
    "  - sudo apt-key adv --keyserver hkp://keyserver.ubuntu.com:80 --recv 0C49F3730359A14518585931BC711F9BA15703C6\n",
    "  \n",
    "  \n",
    "* <b>Create a list file for MongoDB.</b>\n",
    "  - echo \"deb [ arch=amd64,arm64 ] http://repo.mongodb.org/apt/ubuntu xenial/mongodb-org/3.4 multiverse\" | sudo tee /etc/apt/sources.list.d/mongodb-org-3.4.list\n",
    "  \n",
    "  \n",
    "* <b>Reload local package database.</b>\n",
    "  - sudo apt-get update\n",
    "  \n",
    "  \n",
    "* <b>Install the MongoDB packages.</b>\n",
    "  - sudo apt-get install -y mongodb-org\n",
    "  - mpngodb-org 패키지: A metapackage that will automatically install the four component packages, mongodb-org-server, mongodb-org-mongos, mongodb-org-shell, and mongodb-org-tools\n",
    "  - The MongoDB instance stores its data files in /var/lib/mongodb and its log files in /var/log/mongodb by default, and runs using the mongodb user account. You can specify alternate log and data file directories in /etc/mongod.conf.\n",
    "\n",
    "--------------------------------\n",
    "**(중요)**\n",
    "* AWS Management Console -> EC2 -> Security Groups -> EC2's Security Group -> Add Custom TCP Rule, 27017, AnyWhere\n",
    "\n",
    "* 외부 접속 허용시키기 위해서 다음과 같은 과정을 수행\n",
    "  - sudo nano /etc/mongod.conf\n",
    "    - bindIp: 0.0.0.0   으로 변경\n",
    "  - sudo service mongod restart\n",
    "--------------------------------\n",
    "\n",
    "  \n",
    "* <b>Start MongoDB</b>\n",
    "  - sudo service mongod start\n",
    "  \n",
    "  \n",
    "* <b>Verify that MongoDB has started successfully</b>\n",
    "  - Verify that the mongod process has started successfully by checking the contents of the log file at /var/log/mongodb/mongod.log for a line reading\n",
    "  - [initandlisten] waiting for connections on port <port>\n",
    "  - where <port> is the port configured in /etc/mongod.conf, 27017 by default.\n",
    "    \n",
    "    \n",
    "* <b>Stop MongoDB</b>\n",
    "  - sudo service mongod stop"
   ]
  },
  {
   "cell_type": "markdown",
   "metadata": {},
   "source": [
    "## 3. mongoDB 바로 다뤄보기\n",
    "* mongodb의 데이터 구성\n",
    " - db, collection으로 구성\n",
    " - 데이터는 각 collection에 document 형식(python dictionary)으로 저장 됨\n",
    " - collection들의 논리적인 집합이 database\n",
    " \n",
    " \n",
    " ### Robomongo 설치 (MongoDB 관리 GUI 툴)\n",
    "* https://robomongo.org/download\n",
    "  \n",
    "* 실행\n",
    "  - Click Create\n",
    "   ![1](https://user-images.githubusercontent.com/53929665/90314703-aeb9a080-df50-11ea-9075-b0f208ed9c20.JPG)\n",
    "  \n",
    "   \n",
    "  - 아래와 같이 별도의 설정없이 일단 mongodb가 실행된 상태에서 save\n",
    "      - Name을 변경해도 상관없다.\n",
    "      - Address는 고정시켜놔야한다.\n",
    "    > - In Connection\n",
    "    >   - Name: AWS EC2 IP\n",
    "    >   - Address: AWS EC2 IP (port는 27017 디폴트)\n",
    "    > - In Authentication\n",
    "    >   - Database 이름: admin\n",
    "    >   - User Name: 사용자 ID\n",
    "    >   - Password: 사용자 암호\n",
    "      \n",
    "      ![2](https://user-images.githubusercontent.com/53929665/90314908-3f44b080-df52-11ea-8014-5258765a57ac.JPG)\n",
    "\n",
    "    \n",
    "  - Connection\n",
    "    - Click Coonect buttion\n",
    "       ![3](https://user-images.githubusercontent.com/53929665/90314910-4075dd80-df52-11ea-9028-f14a8aece4ee.JPG)\n",
    "     > AWS 리눅스 환경에서 설치시 Address부분에 AWS EC2 IP를 등록한다.\n",
    "    \n",
    "    \n",
    "  - Connection이 정상적으로 수행되었을때, Robo3T 화면 \n",
    "  \n",
    "  \n",
    "  ![6](https://user-images.githubusercontent.com/53929665/90316183-710e4500-df5b-11ea-9b91-615214be0de0.JPG)"
   ]
  },
  {
   "cell_type": "markdown",
   "metadata": {},
   "source": []
  }
 ],
 "metadata": {
  "kernelspec": {
   "display_name": "Python 3",
   "language": "python",
   "name": "python3"
  },
  "language_info": {
   "codemirror_mode": {
    "name": "ipython",
    "version": 3
   },
   "file_extension": ".py",
   "mimetype": "text/x-python",
   "name": "python",
   "nbconvert_exporter": "python",
   "pygments_lexer": "ipython3",
   "version": "3.7.7"
  }
 },
 "nbformat": 4,
 "nbformat_minor": 4
}
