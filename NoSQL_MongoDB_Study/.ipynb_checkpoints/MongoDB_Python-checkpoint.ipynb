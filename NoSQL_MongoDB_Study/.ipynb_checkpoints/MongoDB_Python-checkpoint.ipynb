{
 "cells": [
  {
   "cell_type": "markdown",
   "metadata": {},
   "source": [
    "## [ 1. Python으로 MongoDB 제어하기 ]\n",
    "\n",
    "### (1) pymongo 라이브러리 설치\n",
    "> pip install pymongo\n",
    "\n",
    "### (2) Mongodb 접속\n",
    "-----\n",
    ">import pymongo\n",
    ">객체변수 = pymongo.MongoClient(mongo_server. 27017)\n",
    "\n",
    "- 따로, 서버 ip를 지정하지 않을 경우 사용하는 컴퓨터의 로컬ip가 들어간다.\n",
    "    - ex) connection = pymongo.MongoClient()\n",
    "\n",
    "\n",
    "\n",
    "- AWS EC2 서버에서 접속을 원할 경우, 'mongodb://AWS_EC2_IP' 를 ()에 넣으면된다.\n",
    "    - ex) connection = pymongo.MongoClient('mongodb://15.164.160.186')"
   ]
  },
  {
   "cell_type": "code",
   "execution_count": 4,
   "metadata": {},
   "outputs": [],
   "source": [
    "import pymongo\n",
    "connection = pymongo.MongoClient()"
   ]
  },
  {
   "cell_type": "markdown",
   "metadata": {},
   "source": [
    "\n",
    "### (3) Database 생성/연결\n",
    "-----\n",
    "- conn_db 변수에 test 데이터베이스의 객체가 들어간다.\n",
    "- test라는 데이터베이스가 해당 ip에 없을경우 생성된다."
   ]
  },
  {
   "cell_type": "code",
   "execution_count": 5,
   "metadata": {},
   "outputs": [],
   "source": [
    "conn_db = connection.test"
   ]
  },
  {
   "cell_type": "code",
   "execution_count": null,
   "metadata": {},
   "outputs": [],
   "source": [
    "conn_db = connection['test'] # 이렇게도 선언 가능하다."
   ]
  },
  {
   "cell_type": "markdown",
   "metadata": {},
   "source": [
    "-----\n",
    "- print를 사용하여 database가 저장된 객체를 출력하면, 출력된 MongoClient함수를 통해서 해당 database가 저장된 host가 어딘지 확인 할 수 있다."
   ]
  },
  {
   "cell_type": "code",
   "execution_count": 7,
   "metadata": {},
   "outputs": [
    {
     "name": "stdout",
     "output_type": "stream",
     "text": [
      "Database(MongoClient(host=['localhost:27017'], document_class=dict, tz_aware=False, connect=True), 'test')\n"
     ]
    }
   ],
   "source": [
    "print(conn_db)"
   ]
  },
  {
   "cell_type": "code",
   "execution_count": 8,
   "metadata": {},
   "outputs": [
    {
     "name": "stdout",
     "output_type": "stream",
     "text": [
      "['_BaseObject__codec_options', '_BaseObject__read_concern', '_BaseObject__read_preference', '_BaseObject__write_concern', '_Database__client', '_Database__incoming_copying_manipulators', '_Database__incoming_manipulators', '_Database__name', '_Database__outgoing_copying_manipulators', '_Database__outgoing_manipulators', '__call__', '__class__', '__delattr__', '__dict__', '__dir__', '__doc__', '__eq__', '__format__', '__ge__', '__getattr__', '__getattribute__', '__getitem__', '__gt__', '__hash__', '__init__', '__init_subclass__', '__iter__', '__le__', '__lt__', '__module__', '__ne__', '__new__', '__next__', '__reduce__', '__reduce_ex__', '__repr__', '__setattr__', '__sizeof__', '__str__', '__subclasshook__', '__weakref__', '_apply_incoming_copying_manipulators', '_apply_incoming_manipulators', '_command', '_create_or_update_user', '_current_op', '_default_role', '_fix_incoming', '_fix_outgoing', '_list_collections', '_read_preference_for', '_retryable_read_command', '_write_concern_for', 'add_son_manipulator', 'add_user', 'aggregate', 'authenticate', 'client', 'codec_options', 'collection_names', 'command', 'create_collection', 'current_op', 'dereference', 'drop_collection', 'error', 'eval', 'get_collection', 'incoming_copying_manipulators', 'incoming_manipulators', 'last_status', 'list_collection_names', 'list_collections', 'logout', 'name', 'next', 'outgoing_copying_manipulators', 'outgoing_manipulators', 'previous_error', 'profiling_info', 'profiling_level', 'read_concern', 'read_preference', 'remove_user', 'reset_error_history', 'set_profiling_level', 'system_js', 'validate_collection', 'watch', 'with_options', 'write_concern']\n"
     ]
    }
   ],
   "source": [
    "print(dir(conn_db)) "
   ]
  },
  {
   "cell_type": "markdown",
   "metadata": {},
   "source": [
    "----\n",
    "- name을 사용하여 해당 데이터베이스의 이름이 확인 가능하다."
   ]
  },
  {
   "cell_type": "code",
   "execution_count": 9,
   "metadata": {},
   "outputs": [
    {
     "name": "stdout",
     "output_type": "stream",
     "text": [
      "test\n"
     ]
    }
   ],
   "source": [
    "print(conn_db.name)"
   ]
  },
  {
   "cell_type": "markdown",
   "metadata": {},
   "source": [
    "### (4) Database의 Collection 사용하기"
   ]
  },
  {
   "cell_type": "markdown",
   "metadata": {},
   "source": [
    "----\n",
    "- test 데이터베이스 안에 있는 test_collection의 객체가 conn_db_collection 변수에 저장된다."
   ]
  },
  {
   "cell_type": "code",
   "execution_count": 12,
   "metadata": {},
   "outputs": [],
   "source": [
    "conn_db_collection = conn_db.test_collection"
   ]
  },
  {
   "cell_type": "code",
   "execution_count": null,
   "metadata": {},
   "outputs": [],
   "source": [
    "conn_db_collection = conn_db['test_collection'] # 이렇게도 쓸 수 있다."
   ]
  },
  {
   "cell_type": "markdown",
   "metadata": {},
   "source": [
    "----\n",
    "- 출력된 MongoClient함수를 통해서 해당 collection이 저장된 host, 소속 Database, 그리고 collection name을 확인 할 수 있다."
   ]
  },
  {
   "cell_type": "code",
   "execution_count": 13,
   "metadata": {},
   "outputs": [
    {
     "data": {
      "text/plain": [
       "Collection(Database(MongoClient(host=['localhost:27017'], document_class=dict, tz_aware=False, connect=True), 'test'), 'test_collection')"
      ]
     },
     "execution_count": 13,
     "metadata": {},
     "output_type": "execute_result"
    }
   ],
   "source": [
    "conn_db_collection"
   ]
  },
  {
   "cell_type": "markdown",
   "metadata": {},
   "source": [
    "#### 주의) database에 데이터를 저장하기 전까지는 robo3T에서 직접적으로 생성된 database나 collection을 확인 할 수 없다."
   ]
  },
  {
   "cell_type": "markdown",
   "metadata": {},
   "source": [
    "## [ 2. Python으로 MongoDB CRUD 제어하기 ]\n",
    "\n",
    "### (1) Document INSERT하기 ( insert_one() 과 insert_many() )\n",
    "----\n",
    "- insert_one()\n",
    "    - mongodb shell 명령어 : insertOne()"
   ]
  },
  {
   "cell_type": "code",
   "execution_count": 15,
   "metadata": {},
   "outputs": [],
   "source": [
    "insert_data = {\n",
    "        'Name' : 'JihyunRyu',\n",
    "        'Age' : 23,\n",
    "        'School' : 'SeoulTech.Univ',\n",
    "        'Major' : 'MSDE'\n",
    "}"
   ]
  },
  {
   "cell_type": "code",
   "execution_count": 16,
   "metadata": {},
   "outputs": [
    {
     "data": {
      "text/plain": [
       "<pymongo.results.InsertOneResult at 0x1ad76da7cc8>"
      ]
     },
     "execution_count": 16,
     "metadata": {},
     "output_type": "execute_result"
    }
   ],
   "source": [
    "conn_db_collection.insert_one(insert_data) # 아래 출력 내용은 데이터가 잘 저장되었다는 이야기"
   ]
  },
  {
   "cell_type": "markdown",
   "metadata": {},
   "source": [
    "----\n",
    "- refresh 후 정상적으로 생성 및 저장되어 있음을 확인 할 수 있다.\n",
    "\n",
    "\n",
    "![20](https://user-images.githubusercontent.com/53929665/90895814-a7394200-e3fd-11ea-9f89-61406e010aeb.JPG)"
   ]
  },
  {
   "cell_type": "markdown",
   "metadata": {},
   "source": [
    "----\n",
    "- insert_many 를 사용하여 (여러개) list of Document 생성할 수 있다. \n",
    "- [ ]를 사용하는 것을 항상 염두!"
   ]
  },
  {
   "cell_type": "code",
   "execution_count": 17,
   "metadata": {},
   "outputs": [
    {
     "data": {
      "text/plain": [
       "<pymongo.results.InsertManyResult at 0x1ad79d91508>"
      ]
     },
     "execution_count": 17,
     "metadata": {},
     "output_type": "execute_result"
    }
   ],
   "source": [
    "conn_db_collection.insert_many(\n",
    "    [\n",
    "        {'Student ID' : '17102020', 'Grade' : 'Senior'},\n",
    "        {'Github URL' : 'https://github.com/jhryu1208', 'Github User_ID' : 'jhryu1208'}\n",
    "    ]\n",
    ")"
   ]
  },
  {
   "cell_type": "markdown",
   "metadata": {},
   "source": [
    "---\n",
    "- refresh 후 정상적으로 생성 및 저장되어 있음을 확인 할 수 있다.\n",
    "\n",
    "\n",
    "![21](https://user-images.githubusercontent.com/53929665/90897749-8f16f200-e400-11ea-9bf3-c00a1071e8dd.JPG)\n"
   ]
  }
 ],
 "metadata": {
  "kernelspec": {
   "display_name": "Python 3",
   "language": "python",
   "name": "python3"
  },
  "language_info": {
   "codemirror_mode": {
    "name": "ipython",
    "version": 3
   },
   "file_extension": ".py",
   "mimetype": "text/x-python",
   "name": "python",
   "nbconvert_exporter": "python",
   "pygments_lexer": "ipython3",
   "version": "3.7.7"
  }
 },
 "nbformat": 4,
 "nbformat_minor": 4
}
