{
 "cells": [
  {
   "cell_type": "markdown",
   "metadata": {},
   "source": [
    "### [ 1. 빅데이터 ]\n",
    "* 기존: **관계형 데이터베이스(RDBMS)**\n",
    "  - SQL 언어로 사용 가능\n",
    "  - SQL 데이터베이스\n",
    "* **빅데이터**: NoSQL 데이터베이스\n",
    "\n",
    "### [ 2. NoSQL 이해 ]\n",
    "  - Not only SQL\n",
    "  - RDBMS의 한계를 극복하기 위해 만들어진 새로운 형태의 데이터저장소\n",
    "  - RDBMS처럼 고정된 스키마 및 JOIN 이 존재하지 않음\n",
    "  - 스키마 변경? ALERT 등 필요 없음\n",
    "  \n",
    "  \n",
    "  | SQL | NOSQL |\n",
    "  |------|------|\n",
    "  |정해진 규격 | 정해진 규격 없음|\n",
    "  |Join 가능 | Join 불가능|\n",
    "  |트랜잭션 사용 | 트랜잭션 x|\n",
    "  |분산처리 어려움 | 분산처리 쉬움|"
   ]
  },
  {
   "cell_type": "markdown",
   "metadata": {},
   "source": [
    "#### (1) __NoSQL을 쓰는 이유__\n",
    "- RDBMS를 기본으로 사용하지만, 초당 데이터가 수십만개씩 쌓이는 서비스가 많아지면서(소셜, 온라인 서비스 등), NoSQL을 사용하는 경우가 많아지고 있다.\n",
    "- 경험적 수치\n",
    "   > - 95% read, 5% write (ex. 은행 금융 서비스) 경우에는 RDBMS가 성능이 나쁘지 않다.\n",
    "   >- 50% write (ex. 트위터, 페이스북) 인 경우 RDBMS는 성능 저하 또는 불안정하다.\n",
    "   > - NoSQL + Redis 등을 따라서 많이 고려하게 됨\n",
    "   \n",
    "- 관계형 데이터 베이스 종류\n",
    "   > MySQL, Oracle, PostgreSQL, SQLlite\n",
    "\n",
    "- NoSQL 데이터베이스는 각 데이터베이스마다 기반으로 하는 **데이터 모델이 다르므로**, **데이터 모델별로 대표적인 데이터 베이스를 알아둘 필요가 있다.**\n",
    "    - 다음의 각 데이터베이스를 다루는 인터페이스가 모두 다르다.\n",
    "    > - Key/Value Store  \n",
    "    > - Wide Column Store  \n",
    "    > - Document Store  \n",
    "    > - Graph Store  \n",
    "    >   \n",
    "    > **Redis의 경우 차후에 학습해두면 도움이 된다.**\n",
    "    >  \n",
    "    > <img src=\"https://www.fun-coding.org/00_Images/nosqltype.png\" />\n"
   ]
  },
  {
   "cell_type": "markdown",
   "metadata": {},
   "source": [
    "#### (2) mongoDB 란?\n",
    "- mongoDB는 document 데이터베이스, **JSON 기반**의 Document 기반 데이터 관리\n",
    "- Mongo Document의 예시\n",
    "\n",
    "\n",
    ">```python\n",
    ">\n",
    ">{\n",
    ">    '_id' : ObjectId('5099803df3f42312312391'),\n",
    ">    'username' : 'JihyunRyu',\n",
    ">    'name' : { first : 'Jihyun', last : 'Ryu' }\n",
    ">}\n",
    ">\n",
    ">```"
   ]
  },
  {
   "cell_type": "markdown",
   "metadata": {},
   "source": [
    "#### (3) mongoDB 데이터 구조\n",
    "- mongoDB\n",
    "    - **Database - Collection(Table 대신) - Document**\n",
    "        - **MongoDB DataBase** : Database는 Collection의 집합\n",
    "        - **MongoDB Collection** : Collection은 MongoDB Document의 집합, RDBMS의 Table과 유사한 개념\n",
    "                  \n",
    "                  \n",
    "                  \n",
    "- RDMS\n",
    "    - **Database - Table - Data**\n",
    "\n",
    "> - RDBMS의 Table이 아니라, **Collection**에 **JSON형태**의 Document를 넣는다.\n",
    "> - Document 하나가 하나의 low(레코드)에 해당한다.\n",
    ">  \n",
    "> <img src=\"https://www.fun-coding.org/00_Images/nosqlstructure.png\" />\n",
    ">  \n",
    "> <img src=\"https://www.fun-coding.org/00_Images/mongodb_mysql.png\" /> "
   ]
  },
  {
   "cell_type": "code",
   "execution_count": null,
   "metadata": {},
   "outputs": [],
   "source": []
  },
  {
   "cell_type": "code",
   "execution_count": null,
   "metadata": {},
   "outputs": [],
   "source": []
  }
 ],
 "metadata": {
  "kernelspec": {
   "display_name": "Python 3",
   "language": "python",
   "name": "python3"
  },
  "language_info": {
   "codemirror_mode": {
    "name": "ipython",
    "version": 3
   },
   "file_extension": ".py",
   "mimetype": "text/x-python",
   "name": "python",
   "nbconvert_exporter": "python",
   "pygments_lexer": "ipython3",
   "version": "3.7.7"
  }
 },
 "nbformat": 4,
 "nbformat_minor": 4
}
